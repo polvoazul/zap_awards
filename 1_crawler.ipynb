{
 "cells": [
  {
   "cell_type": "code",
   "execution_count": null,
   "metadata": {},
   "outputs": [],
   "source": [
    "import selenium\n",
    "from selenium import webdriver\n",
    "from selenium.webdriver.common import keys\n",
    "from time import sleep\n",
    "import os\n",
    "os.environ['PATH'] += ':.' "
   ]
  },
  {
   "cell_type": "code",
   "execution_count": null,
   "metadata": {},
   "outputs": [],
   "source": [
    "driver = webdriver.Chrome()"
   ]
  },
  {
   "cell_type": "code",
   "execution_count": null,
   "metadata": {},
   "outputs": [],
   "source": [
    "driver.get('http://web.whatsapp.com')"
   ]
  },
  {
   "cell_type": "code",
   "execution_count": null,
   "metadata": {},
   "outputs": [],
   "source": [
    "# signed_in = driver.find_elements_by_xpath(\"//*[contains(text(), 'Keep me')]\")[0]\n",
    "# signed_in.click()"
   ]
  },
  {
   "cell_type": "code",
   "execution_count": null,
   "metadata": {},
   "outputs": [],
   "source": [
    "print(\"CONFIRME O QR CODE E DEPOIS CLIQUE NO CHAT DO GRUPO QUE QUER CRAWLEAR!\")\n",
    "sleep(1)"
   ]
  },
  {
   "cell_type": "code",
   "execution_count": null,
   "metadata": {},
   "outputs": [],
   "source": [
    "body = driver.find_element_by_tag_name('body')\n",
    "chat_area_father = body.find_element_by_class_name('copyable-area')\n",
    "chat_area = chat_area_father.find_element_by_xpath('div[1]') # get 1st div child\n",
    "chat_area.get_attribute('class')"
   ]
  },
  {
   "cell_type": "code",
   "execution_count": null,
   "metadata": {},
   "outputs": [],
   "source": [
    "messages = driver.find_elements_by_class_name('message-in')\n",
    "len(messages)\n"
   ]
  },
  {
   "cell_type": "code",
   "execution_count": null,
   "metadata": {},
   "outputs": [],
   "source": [
    "def sleep_until_messages_loaded(body):\n",
    "    for i in range(10):\n",
    "        try: body.find_element_by_xpath('//div[contains(@title, \"loading messages\")]')\n",
    "        except selenium.common.exceptions.NoSuchElementException: return True\n",
    "        sleep(0.5)\n",
    "    return False\n",
    "els = [] # RENAME ELS\n",
    "sleep_until_messages_loaded(body)"
   ]
  },
  {
   "cell_type": "code",
   "execution_count": null,
   "metadata": {},
   "outputs": [],
   "source": [
    "### RENAME FUNCTION\n",
    "chat_area.click() # TRY TO CLICK IN an area withou conflict\n",
    "for i in range(150):\n",
    "    removed_els = driver.execute_script('''\n",
    "function _x(STR_XPATH) {\n",
    "    var xresult = document.evaluate(STR_XPATH, document, null, XPathResult.ANY_TYPE, null);\n",
    "    var xnodes = [];\n",
    "    var xres;\n",
    "    while (xres = xresult.iterateNext()) {\n",
    "        xnodes.push(xres);\n",
    "    }\n",
    "\n",
    "    return xnodes;\n",
    "}\n",
    "return _.map(_x('html/body/div/div/div/div[3]/div/div[2]/div/div/div[3]/div').slice(10,100000)\n",
    "        ,function(x){\n",
    "            if(x) {a = x.outerHTML; x.remove(); return a}\n",
    "        })\n",
    "''')\n",
    "    removed_els.reverse()\n",
    "    els += removed_els\n",
    "    [body.send_keys(keys.Keys.PAGE_UP) for _ in range(5)]\n",
    "    sleep(0.5)\n",
    "    sleep_until_messages_loaded(body)\n",
    "    print(i, flush=True, end=',')\n",
    "    if (i % 10) == 0: chat_area.click(), print()\n",
    "\n",
    "print('\\n Length');\n",
    "print(len(els))"
   ]
  },
  {
   "cell_type": "code",
   "execution_count": null,
   "metadata": {},
   "outputs": [],
   "source": [
    "import copy\n",
    "import settings\n",
    "FILENAME = settings.GROUP_NAME + '.html'\n",
    "\n",
    "r_els = copy.copy(els)\n",
    "r_els.reverse()\n",
    "with open(FILENAME, 'w+') as f:\n",
    "    f.writelines(r_els)\n",
    "    print(f'{FILENAME} written!')"
   ]
  },
  {
   "cell_type": "markdown",
   "metadata": {},
   "source": [
    "## Extras"
   ]
  },
  {
   "cell_type": "code",
   "execution_count": null,
   "metadata": {},
   "outputs": [],
   "source": [
    "############## Extras ##############\n",
    "\n",
    "import base64\n",
    "def get_blob_content(driver, uri) -> bytes:\n",
    "    \"\"\"\n",
    "    Use to grab files such as images from blob links\n",
    "    get_blob_content(\"blob:https://web.whatsapp.com/cf8679c6-e3cb-4a30-91ed-3a67de1d5dd4\")\n",
    "    \"\"\"\n",
    "    result = driver.execute_async_script(\"\"\"\n",
    "            var uri = arguments[0];\n",
    "            var callback = arguments[1];\n",
    "            var toBase64 = function(buffer){for(var r,n=new Uint8Array(buffer),t=n.length,a=new Uint8Array(4*Math.ceil(t/3)),i=new Uint8Array(64),o=0,c=0;64>c;++c)i[c]=\"ABCDEFGHIJKLMNOPQRSTUVWXYZabcdefghijklmnopqrstuvwxyz0123456789+/\".charCodeAt(c);for(c=0;t-t%3>c;c+=3,o+=4)r=n[c]<<16|n[c+1]<<8|n[c+2],a[o]=i[r>>18],a[o+1]=i[r>>12&63],a[o+2]=i[r>>6&63],a[o+3]=i[63&r];return t%3===1?(r=n[t-1],a[o]=i[r>>2],a[o+1]=i[r<<4&63],a[o+2]=61,a[o+3]=61):t%3===2&&(r=(n[t-2]<<8)+n[t-1],a[o]=i[r>>10],a[o+1]=i[r>>4&63],a[o+2]=i[r<<2&63],a[o+3]=61),new TextDecoder(\"ascii\").decode(a)};\n",
    "            var xhr = new XMLHttpRequest();\n",
    "            xhr.responseType = 'arraybuffer';\n",
    "            xhr.onload = function(){ callback(toBase64(xhr.response)) };\n",
    "            xhr.onerror = function(){ callback(xhr.status) };\n",
    "            xhr.open('GET', uri);\n",
    "            xhr.send();\n",
    "            \"\"\", uri)\n",
    "    if type(result) == int :\n",
    "        raise Exception(\"Request failed with status %s\" % result)\n",
    "    return base64.b64decode(result)\n",
    "\n",
    "def bind(instance, func, asname): \n",
    "    setattr(instance, asname, func.__get__(instance, instance.__class__))\n",
    "\n",
    "def bind_driver(driver):\n",
    "    bind(driver, get_blob_content, 'get_blob_content')\n",
    "    \n",
    "def display_image(bytes):\n",
    "    from IPython.display import Image\n",
    "    with open('/tmp/a.jpg', 'wb') as f: f.write(bytes)\n",
    "    Image('/tmp/a.jpg')"
   ]
  },
  {
   "cell_type": "code",
   "execution_count": null,
   "metadata": {},
   "outputs": [],
   "source": []
  }
 ],
 "metadata": {
  "kernelspec": {
   "display_name": "Python 3",
   "language": "python",
   "name": "python3"
  },
  "language_info": {
   "codemirror_mode": {
    "name": "ipython",
    "version": 3
   },
   "file_extension": ".py",
   "mimetype": "text/x-python",
   "name": "python",
   "nbconvert_exporter": "python",
   "pygments_lexer": "ipython3",
   "version": "3.6.3"
  }
 },
 "nbformat": 4,
 "nbformat_minor": 2
}
